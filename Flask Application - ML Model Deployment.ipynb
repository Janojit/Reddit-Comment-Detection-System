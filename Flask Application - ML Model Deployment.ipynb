{
 "cells": [
  {
   "cell_type": "code",
   "execution_count": 1,
   "id": "cddaae92",
   "metadata": {},
   "outputs": [],
   "source": [
    "import warnings\n",
    "warnings.filterwarnings(\"ignore\")"
   ]
  },
  {
   "cell_type": "markdown",
   "id": "0d3a14cb",
   "metadata": {},
   "source": [
    "### ML Model Deployment Using Flask"
   ]
  },
  {
   "cell_type": "code",
   "execution_count": 2,
   "id": "11002a57",
   "metadata": {},
   "outputs": [],
   "source": [
    "import flask\n",
    "import pickle\n",
    "from flask import request"
   ]
  },
  {
   "cell_type": "code",
   "execution_count": 3,
   "id": "e569ebde",
   "metadata": {},
   "outputs": [],
   "source": [
    "from flask_cors import CORS, cross_origin"
   ]
  },
  {
   "cell_type": "code",
   "execution_count": 4,
   "id": "fa17f501",
   "metadata": {},
   "outputs": [],
   "source": [
    "# IMPORTING ML Aspects\n",
    "\n",
    "model = pickle.load(open(\"model.pickle\", \"rb\"))\n",
    "le = pickle.load(open(\"le.pickle\", \"rb\"))\n",
    "cv = pickle.load(open(\"cv.pickle\",\"rb\"))"
   ]
  },
  {
   "cell_type": "code",
   "execution_count": null,
   "id": "f70ea946",
   "metadata": {},
   "outputs": [
    {
     "name": "stdout",
     "output_type": "stream",
     "text": [
      " * Serving Flask app '__main__'\n",
      " * Debug mode: off\n"
     ]
    },
    {
     "name": "stderr",
     "output_type": "stream",
     "text": [
      "WARNING: This is a development server. Do not use it in a production deployment. Use a production WSGI server instead.\n",
      " * Running on all addresses (0.0.0.0)\n",
      " * Running on http://127.0.0.1:8080\n",
      " * Running on http://172.50.122.58:8080\n",
      "Press CTRL+C to quit\n",
      "172.50.122.58 - - [03/May/2023 19:56:48] \"OPTIONS /predict HTTP/1.1\" 200 -\n",
      "172.50.122.58 - - [03/May/2023 19:56:48] \"POST /predict HTTP/1.1\" 200 -\n",
      "172.50.122.58 - - [03/May/2023 19:56:54] \"OPTIONS /predict HTTP/1.1\" 200 -\n",
      "172.50.122.58 - - [03/May/2023 19:56:54] \"POST /predict HTTP/1.1\" 200 -\n",
      "172.50.122.58 - - [03/May/2023 19:57:10] \"OPTIONS /predict HTTP/1.1\" 200 -\n",
      "172.50.122.58 - - [03/May/2023 19:57:10] \"POST /predict HTTP/1.1\" 200 -\n"
     ]
    }
   ],
   "source": [
    "app = flask.Flask(__name__)\n",
    "CORS(app, support_credentials = True)\n",
    "\n",
    "@app.route('/predict', methods = ['POST'])\n",
    "@cross_origin(supports_credentials = True)\n",
    "def predict():\n",
    "    \n",
    "    data = request.get_json()\n",
    "    comment = data['comment']\n",
    "    \n",
    "    comment_cv = cv.transform([comment])\n",
    "\n",
    "    com_type = model.predict(comment_cv)\n",
    "    \n",
    "    comm_type = le.inverse_transform(com_type)\n",
    "    \n",
    "    return {\"COMMENT_TYPE\" : comm_type[0]}\n",
    "\n",
    "app.run(host = '0.0.0.0', port = 8080)"
   ]
  }
 ],
 "metadata": {
  "kernelspec": {
   "display_name": "Python 3",
   "language": "python",
   "name": "python3"
  },
  "language_info": {
   "codemirror_mode": {
    "name": "ipython",
    "version": 3
   },
   "file_extension": ".py",
   "mimetype": "text/x-python",
   "name": "python",
   "nbconvert_exporter": "python",
   "pygments_lexer": "ipython3",
   "version": "3.8.8"
  }
 },
 "nbformat": 4,
 "nbformat_minor": 5
}
